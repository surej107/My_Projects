{
 "cells": [
  {
   "cell_type": "code",
   "execution_count": null,
   "metadata": {},
   "outputs": [],
   "source": [
    "import os\n",
    "from metapub import PubMedFetcher\n",
    "import subprocess\n",
    "import sys\n",
    "\n",
    "\n",
    "import logging\n",
    "logging.basicConfig(level=logging.INFO)\n",
    "logger = logging.getLogger()\n",
    "\n",
    "\n",
    "os.environ['NCBI_API_KEY'] = '2661444abf24262143b42bb75c47a8d37508'\n",
    "\n",
    "\n",
    "kw = input(\"Enter the Key word to be searched:\")\n",
    "num_of_article = int(input(\"Enter the number of documents required:\"))\n",
    "\n",
    "\n",
    "fetch = PubMedFetcher()\n",
    "\n",
    "\n",
    "logger.info(\"Fetching PMIDs...\")\n",
    "pds = fetch.pmids_for_query(kw, num_of_article)\n",
    "logger.info(f\"Fetched {len(pds)} PMIDs: {pds}\")\n",
    "\n",
    "pmids_str = ','.join(pds)\n",
    "\n",
    "\n",
    "pubmed2pdf_path = r'c:\\users\\surej\\appdata\\roaming\\python\\python311\\scripts\\pubmed2pdf.exe'\n",
    "\n",
    "\n",
    "logger.info(\"Running pubmed2pdf...\")\n",
    "result = subprocess.run(\n",
    "    [pubmed2pdf_path, 'pdf', '--pmids', pmids_str],\n",
    "    capture_output=True,\n",
    "    text=True\n",
    ")\n",
    "\n",
    "\n",
    "logger.info(\"Process finished.\")\n",
    "logger.info(\"STDOUT: \" + result.stdout)\n",
    "logger.info(\"STDERR: \" + result.stderr)\n",
    "logger.info(\"Return code: \" + str(result.returncode))\n"
   ]
  }
 ],
 "metadata": {
  "language_info": {
   "name": "python"
  }
 },
 "nbformat": 4,
 "nbformat_minor": 2
}
